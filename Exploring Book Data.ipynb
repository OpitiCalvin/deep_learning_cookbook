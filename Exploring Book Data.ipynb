{
 "cells": [
  {
   "cell_type": "code",
   "execution_count": 65,
   "metadata": {},
   "outputs": [],
   "source": [
    "import pandas as pd \n",
    "import json\n",
    "\n",
    "from IPython.core.interactiveshell import InteractiveShell\n",
    "InteractiveShell.ast_node_interactivity = 'all'\n",
    "\n",
    "from itertools import chain\n",
    "from collections import Counter"
   ]
  },
  {
   "cell_type": "code",
   "execution_count": 60,
   "metadata": {},
   "outputs": [],
   "source": [
    "file = '/data/1000-books.ndjson'\n",
    "\n",
    "books = []\n",
    "\n",
    "# Read in the file and read\n",
    "with open(file, 'r') as f:\n",
    "    for l in f:\n",
    "        books.append(json.loads(l))"
   ]
  },
  {
   "cell_type": "code",
   "execution_count": 61,
   "metadata": {},
   "outputs": [
    {
     "data": {
      "text/plain": [
       "1000"
      ]
     },
     "execution_count": 61,
     "metadata": {},
     "output_type": "execute_result"
    },
    {
     "data": {
      "text/plain": [
       "'Animalia (book)'"
      ]
     },
     "execution_count": 61,
     "metadata": {},
     "output_type": "execute_result"
    }
   ],
   "source": [
    "len(books)\n",
    "books[0][0]"
   ]
  },
  {
   "cell_type": "code",
   "execution_count": 62,
   "metadata": {},
   "outputs": [
    {
     "data": {
      "text/plain": [
       "{'1': '< !-- See Wikipedia:WikiProject_Novels or Wikipedia:WikiProject_Books -- >',\n",
       " 'name': 'Animalia',\n",
       " 'image': 'Animalia (book cover).jpg',\n",
       " 'alt': 'Book cover: a larger picture framed by smaller pictures, all of which contain different animals, and title with author at the top',\n",
       " 'author': 'Graeme Base',\n",
       " 'illustrator': 'Graeme Base',\n",
       " 'country': 'Australia',\n",
       " 'language': 'English',\n",
       " 'genre': 'Picture books',\n",
       " 'publisher': 'Harcourt Brace Jovanovich',\n",
       " 'release_date': '1986',\n",
       " 'pages': '32',\n",
       " 'isbn': '0-810-91868-4'}"
      ]
     },
     "execution_count": 62,
     "metadata": {},
     "output_type": "execute_result"
    },
    {
     "data": {
      "text/plain": [
       "{'name': 'Animal Farm',\n",
       " 'title_orig': 'Animal Farm: A Fairy Story',\n",
       " 'image': 'Animal Farm - 1st edition.jpg',\n",
       " 'caption': 'First edition cover',\n",
       " 'author': 'George Orwell',\n",
       " 'country': 'United Kingdom',\n",
       " 'language': 'English',\n",
       " 'genre': 'Political satire',\n",
       " 'published': '17 August 1945 (Secker and Warburg, London, England)',\n",
       " 'media_type': 'Print (hardback  &  paperback)',\n",
       " 'pages': '112 (UK paperback edition)  < !-- First edition page count preferred -- >',\n",
       " 'isbn': '< !-- First released before ISBN system implemented -- >',\n",
       " 'dewey': '823/.912 20',\n",
       " 'congress': 'PR6029.R8 A63 2003b',\n",
       " 'oclc': '53163540'}"
      ]
     },
     "execution_count": 62,
     "metadata": {},
     "output_type": "execute_result"
    }
   ],
   "source": [
    "books[0][1]\n",
    "books[1][1]"
   ]
  },
  {
   "cell_type": "code",
   "execution_count": 63,
   "metadata": {},
   "outputs": [
    {
     "data": {
      "text/plain": [
       "['Graeme Base',\n",
       " 'Picture books',\n",
       " 'Harcourt Brace Jovanovich',\n",
       " \"Children's literature\",\n",
       " 'Graeme Base',\n",
       " 'alliteration',\n",
       " 'alphabet',\n",
       " 'alligator',\n",
       " 'butterfly',\n",
       " 'colouring book',\n",
       " 'Abrams Books',\n",
       " 'Animalia (TV series)',\n",
       " 'Venezuela',\n",
       " 'Minimax (TV channel)',\n",
       " 'Czech Republic',\n",
       " 'Slovakia',\n",
       " 'Greece',\n",
       " 'ET1 (Greece)',\n",
       " \"Australian Children's Television Foundation\",\n",
       " 'iPad',\n",
       " 'iPhone',\n",
       " 'iPod Touch',\n",
       " \"Children's Book Council of Australia\",\n",
       " \"Children's Book of the Year Award: Picture Book\",\n",
       " 'Category:Alphabet books',\n",
       " \"Category:1986 children's books\",\n",
       " 'Category:Picture books by Graeme Base',\n",
       " 'Category:Puzzle books',\n",
       " \"Category:Australian children's books\"]"
      ]
     },
     "execution_count": 63,
     "metadata": {},
     "output_type": "execute_result"
    },
    {
     "data": {
      "text/plain": [
       "['George Orwell',\n",
       " 'Secker and Warburg',\n",
       " 'allegory',\n",
       " 'George Orwell',\n",
       " 'Russian Revolution of 1917',\n",
       " 'History of the Soviet Union (1927–53)',\n",
       " 'Soviet Union',\n",
       " 'BBC',\n",
       " 'democratic socialism',\n",
       " 'Why I Write',\n",
       " 'Joseph Stalin',\n",
       " 'Stalinism',\n",
       " 'Spanish Civil War',\n",
       " 'Franz Borkenau',\n",
       " 'Time and Tide (magazine)',\n",
       " 'dictatorship',\n",
       " 'cult of personality',\n",
       " 'great purge',\n",
       " 'satire',\n",
       " 'Why I Write',\n",
       " 'Latin',\n",
       " 'Russian bear',\n",
       " 'Bradbury, Malcolm',\n",
       " 'History Today',\n",
       " 'Victor Gollancz',\n",
       " 'Cold War',\n",
       " 'Modern Library List of Best 20th-Century Novels',\n",
       " 'Hugo Award',\n",
       " 'Great Books of the Western World',\n",
       " 'Old Major',\n",
       " 'Beasts of England',\n",
       " 'Snowball (Animal Farm)',\n",
       " 'Napoleon (Animal Farm)',\n",
       " 'Jones (Animal Farm)',\n",
       " '#Animalism',\n",
       " 'windmill',\n",
       " 'Squealer (Animal Farm)',\n",
       " 'scapegoating',\n",
       " 'purge',\n",
       " 'Frederick (Animal Farm)',\n",
       " 'Explosive material',\n",
       " 'Pyrrhic victory',\n",
       " 'Boxer (Animal Farm)',\n",
       " 'knacker',\n",
       " 'whisky',\n",
       " '1940s',\n",
       " 'animal glue',\n",
       " 'Old Major',\n",
       " 'Middle White',\n",
       " 'Karl Marx',\n",
       " 'Vladimir Lenin',\n",
       " 'Russian Revolution',\n",
       " \"Lenin's Mausoleum\",\n",
       " 'Napoleon (Animal Farm)',\n",
       " 'Berkshire pig',\n",
       " 'Joseph Stalin',\n",
       " 'Caesar (title)',\n",
       " 'Snowball (Animal Farm)',\n",
       " 'Leon Trotsky',\n",
       " 'Squealer (Animal Farm)',\n",
       " 'Vyacheslav Molotov',\n",
       " 'Great Purge',\n",
       " 'Grigori Zinoviev',\n",
       " 'Lev Kamenev',\n",
       " 'Nikolai Bukharin',\n",
       " 'Alexei Rykov',\n",
       " 'Jones (Animal Farm)',\n",
       " 'Tsar Nicholas II',\n",
       " 'February Revolution',\n",
       " 'Bolsheviks',\n",
       " 'cockfighting',\n",
       " 'Adolf Hitler',\n",
       " 'Molotov–Ribbentrop Pact',\n",
       " 'Operation Barbarossa',\n",
       " 'Pilkington (Animal Farm)',\n",
       " 'paraffin wax',\n",
       " 'Boxer (Animal Farm)',\n",
       " 'Stakhanovite movement',\n",
       " 'knacker',\n",
       " 'Benjamin (Animal Farm)',\n",
       " 'Religion and politics',\n",
       " 'Russian Orthodox Church',\n",
       " 'Spanish Civil War',\n",
       " 'Homage to Catalonia',\n",
       " 'Stalinist',\n",
       " 'BBC',\n",
       " 'Overy, Richard',\n",
       " 'Ministry of Information (United Kingdom)',\n",
       " '#GOIT',\n",
       " 'Secker and Warburg',\n",
       " 'World War II',\n",
       " 'Victor Gollancz Ltd',\n",
       " 'Faber and Faber',\n",
       " 'T. S. Eliot',\n",
       " \"Deformed workers' state\",\n",
       " 'André Deutsch',\n",
       " 'Partisan Review',\n",
       " 'Jonathan Cape',\n",
       " 'Soviet Union',\n",
       " 'Leonard Moore (literary agent)',\n",
       " 'Peter Smollett',\n",
       " \"Orwell's list\",\n",
       " 'NKVD',\n",
       " 'Kim Philby',\n",
       " 'Gordievsky, Oleg',\n",
       " 'Frederic Warburg',\n",
       " 'Red Army',\n",
       " 'Struve, Gleb',\n",
       " 'David Low (cartoonist)',\n",
       " 'Folio Society',\n",
       " 'Quentin Blake',\n",
       " 'Ralph Steadman',\n",
       " 'self-censorship',\n",
       " '#Ba',\n",
       " 'Ian Angus (librarian)',\n",
       " 'Bernard Crick',\n",
       " 'The Times Literary Supplement',\n",
       " 'The New Republic',\n",
       " 'The Guardian',\n",
       " 'Tosco Fyvel',\n",
       " 'Tribune (magazine)',\n",
       " 'Julian Symons',\n",
       " 'Communism',\n",
       " 'Animalism (philosophy)',\n",
       " 'allusion',\n",
       " 'File:Animal Farm artwork.jpg',\n",
       " 'Norman Pett',\n",
       " 'Irony',\n",
       " 'dogma',\n",
       " 'propaganda',\n",
       " 'File:Animalism flag.svg',\n",
       " 'hammer and sickle',\n",
       " 'Eastern Bloc',\n",
       " 'Nineteen Eighty-Four',\n",
       " 'Revolutions of 1989',\n",
       " 'Samizdat',\n",
       " 'October Revolution',\n",
       " 'Allied intervention in the Russian Civil War',\n",
       " 'Russian SFSR',\n",
       " 'White movement',\n",
       " 'Russian Civil War',\n",
       " 'Dwight Macdonald',\n",
       " 'Kronstadt rebellion',\n",
       " 'Five-Year Plans for the National Economy of the Soviet Union',\n",
       " 'Moscow show trials',\n",
       " 'Peter Edgerly Firchow',\n",
       " 'Peter Davison (professor)',\n",
       " 'Great Patriotic War',\n",
       " 'World War II',\n",
       " 'Battle of Stalingrad',\n",
       " 'Battle of Moscow',\n",
       " 'Katyn Massacre',\n",
       " 'Arthur Koestler',\n",
       " 'File:15th Congress of the All-Union Communist Party (Bolsheviks).jpg',\n",
       " 'Alexey Rykov',\n",
       " 'Mykola Skrypnyk',\n",
       " 'Joseph Stalin',\n",
       " '15th Congress of the All-Union Communist Party (Bolsheviks)',\n",
       " 'Isaac Deutscher',\n",
       " 'Hungarian Revolution of 1919',\n",
       " 'German Revolution of 1918–19',\n",
       " 'Trotskyism',\n",
       " 'Permanent revolution',\n",
       " 'socialism in one country',\n",
       " 'Treaty of Rapallo (1922)',\n",
       " 'Treaty of Non-Aggression between Germany and the Soviet Union',\n",
       " 'rapprochement',\n",
       " 'Teheran Conference',\n",
       " 'Cold War',\n",
       " 'The Internationale',\n",
       " 'Raymond Williams',\n",
       " 'Jeffrey Moussaieff Masson',\n",
       " 'Helen Tiffin',\n",
       " '#Origin',\n",
       " 'Animal Farm (1954 film)',\n",
       " 'E. Howard Hunt',\n",
       " 'CIA',\n",
       " 'Psychological Warfare',\n",
       " 'Animal Farm (1999 film)',\n",
       " 'Andy Serkis',\n",
       " 'Rayner Heppenstall',\n",
       " 'Hugh Gordon Porteus',\n",
       " 'Radio Four',\n",
       " 'Tamsin Greig',\n",
       " 'Nicky Henson',\n",
       " 'Toby Jones',\n",
       " 'Ralph Ineson',\n",
       " 'Adrian Mitchell',\n",
       " 'Royal National Theatre',\n",
       " 'Peter Hall (director)',\n",
       " 'Traverse Theatre',\n",
       " 'Norman Pett',\n",
       " 'Don Freeman',\n",
       " 'British Foreign Office',\n",
       " 'Boston Crusaders Drum and Bugle Corps',\n",
       " 'Boxer the Horse',\n",
       " 'Dead prez',\n",
       " \"Let's Get Free\",\n",
       " 'Half Man Half Biscuit',\n",
       " 'Back Again in the DHSS',\n",
       " 'Douglas Bader',\n",
       " 'Arthur Askey',\n",
       " 'metalcore',\n",
       " 'Ice Nine Kills',\n",
       " 'Pink Floyd',\n",
       " 'Animals (Pink Floyd album)',\n",
       " 'R.E.M.',\n",
       " 'Radiohead',\n",
       " 'The Clash',\n",
       " 'Animal Farm (1954 film)',\n",
       " 'English Civil War (song)',\n",
       " \"The Daleks' Master Plan\",\n",
       " 'Doctor Who',\n",
       " 'List of Johnny Bravo episodes#Season 2: 1999-2000',\n",
       " 'Johnny Bravo',\n",
       " 'Lost (TV series)',\n",
       " 'Exposé (Lost)',\n",
       " 'Oz (TV series) (season 2)',\n",
       " 'HBO',\n",
       " 'Oz (TV Series)',\n",
       " 'Internet Movie Database',\n",
       " 'List of Sex and the City episodes#Season 4: 2001–2002',\n",
       " 'Sex and the City',\n",
       " 'X-Men (TV series)',\n",
       " 'Enter Magneto',\n",
       " 'Beast (comics)',\n",
       " 'George Orwell',\n",
       " 'prebound',\n",
       " 'mass market paperback',\n",
       " 'e-book',\n",
       " 'Nineteen Eighty-Four',\n",
       " 'Amazon.com',\n",
       " 'Amazon Kindle',\n",
       " 'Nineteen Eighty-Four',\n",
       " 'George Orwell',\n",
       " 'Authoritarian personality',\n",
       " 'Bandwagon effect',\n",
       " 'History of Soviet Russia and the Soviet Union (1917–1927)',\n",
       " 'History of the Soviet Union (1927–1953)',\n",
       " 'Ideocracy',\n",
       " 'New class',\n",
       " 'Anthems in Animal Farm',\n",
       " 'Władysław Reymont',\n",
       " 'Nobel laureate',\n",
       " 'Revolt (book)',\n",
       " \"Gulliver's Travels\",\n",
       " 'Jonathan Swift',\n",
       " 'Revolt (book)',\n",
       " 'Nobel laureate',\n",
       " 'Władysław Reymont',\n",
       " 'White Acre vs. Black Acre',\n",
       " 'slavery in the United States',\n",
       " 'Nineteen Eighty-Four',\n",
       " 'dystopian novel',\n",
       " 'totalitarianism',\n",
       " 'Christopher Hitchens',\n",
       " '#GOIT',\n",
       " 'The New York Times',\n",
       " 'Penguin Books',\n",
       " 'CliffsNotes',\n",
       " 'Penguin Books',\n",
       " 'Oscar Mondadori',\n",
       " 'Bernard Crick',\n",
       " 'John Molyneux (academic)',\n",
       " 'Category:1945 British novels',\n",
       " 'Category:Allegory',\n",
       " 'Category:Animal Farm',\n",
       " 'Category:Dystopian novels',\n",
       " 'Category:English novels',\n",
       " 'Category:Hugo Award for Best Novella winning works',\n",
       " 'Category:Prometheus Award-winning works',\n",
       " 'Category:Literature featuring anthropomorphic characters',\n",
       " 'Category:British novellas',\n",
       " 'Category:Novels by George Orwell',\n",
       " 'Category:Political literature',\n",
       " 'Category:British political novels',\n",
       " 'Category:Roman à clef novels',\n",
       " 'Category:Satirical novels',\n",
       " 'Category:Novels about revolutionaries',\n",
       " 'Category:Novels about totalitarianism',\n",
       " 'Category:Novels about propaganda',\n",
       " 'Category:British satirical novels',\n",
       " 'Category:Novels about animals',\n",
       " 'Category:Secker  &  Warburg books',\n",
       " 'Category:Pigs in literature',\n",
       " 'Category:Cattle in literature',\n",
       " 'Category:Cats in literature',\n",
       " 'Category:Dogs in literature',\n",
       " 'Category:British novels adapted into films',\n",
       " 'Category:British novels adapted into plays',\n",
       " 'Category:Novels adapted into radio programs',\n",
       " 'Category:Novels adapted into television programs',\n",
       " 'Category:Novels adapted into comics',\n",
       " 'Category:Censored books']"
      ]
     },
     "execution_count": 63,
     "metadata": {},
     "output_type": "execute_result"
    }
   ],
   "source": [
    "books[0][2]\n",
    "books[1][2]"
   ]
  },
  {
   "cell_type": "code",
   "execution_count": 76,
   "metadata": {},
   "outputs": [
    {
     "data": {
      "text/plain": [
       "[('British novels adapted into films', 135),\n",
       " ('American novels adapted into films', 110),\n",
       " ('Novels adapted into television programs', 108),\n",
       " ('Novels first published in serial form', 92),\n",
       " ('American science fiction novels', 69),\n",
       " ('Debut novels', 50),\n",
       " ('Doubleday (publisher) books', 39),\n",
       " ('Novels set in London', 34),\n",
       " ('Dystopian novels', 32),\n",
       " ('Novels by Robert A. Heinlein', 32)]"
      ]
     },
     "execution_count": 76,
     "metadata": {},
     "output_type": "execute_result"
    }
   ],
   "source": [
    "categories = []\n",
    "\n",
    "for book in books:\n",
    "    for link in book[2]:\n",
    "        if link.startswith('Category'):\n",
    "            categories.append(link[9:])\n",
    "            \n",
    "category_counts = Counter(categories)\n",
    "category_counts.most_common(10)"
   ]
  },
  {
   "cell_type": "code",
   "execution_count": 35,
   "metadata": {},
   "outputs": [
    {
     "data": {
      "text/plain": [
       "8"
      ]
     },
     "execution_count": 35,
     "metadata": {},
     "output_type": "execute_result"
    }
   ],
   "source": [
    "category_map = {category: value for value, category in enumerate(categories)}\n",
    "category_map.get('Novels set in Florence')"
   ]
  },
  {
   "cell_type": "code",
   "execution_count": 55,
   "metadata": {},
   "outputs": [
    {
     "data": {
      "text/plain": [
       "1000"
      ]
     },
     "execution_count": 55,
     "metadata": {},
     "output_type": "execute_result"
    }
   ],
   "source": [
    "attributes = []\n",
    "\n",
    "for record in data:\n",
    "    attributes.append(record[1].keys())\n",
    "    \n",
    "len(attributes)"
   ]
  },
  {
   "cell_type": "code",
   "execution_count": 56,
   "metadata": {},
   "outputs": [],
   "source": [
    "from itertools import chain\n",
    "from collections import Counter\n",
    "\n",
    "attributes = chain(*attributes)\n",
    "attribute_counts = dict(Counter(attributes))"
   ]
  },
  {
   "cell_type": "code",
   "execution_count": 57,
   "metadata": {},
   "outputs": [
    {
     "data": {
      "text/plain": [
       "[('release_date', 612),\n",
       " ('media_type', 703),\n",
       " ('genre', 719),\n",
       " ('caption', 799),\n",
       " ('publisher', 831),\n",
       " ('country', 873),\n",
       " ('language', 909),\n",
       " ('image', 953),\n",
       " ('author', 969),\n",
       " ('name', 981)]"
      ]
     },
     "execution_count": 57,
     "metadata": {},
     "output_type": "execute_result"
    }
   ],
   "source": [
    "attribute_counts = sorted(attribute_counts.items(), key = lambda x: x[1])\n",
    "attribute_counts[-10:]"
   ]
  },
  {
   "cell_type": "code",
   "execution_count": 8,
   "metadata": {},
   "outputs": [
    {
     "data": {
      "text/plain": [
       "'[\"Animalia (book)\", {\"1\": \"< !-- See Wikipedia:WikiProject_Novels or Wikipedia:WikiProject_Books -- >\", \"name\": \"Animalia\", \"image\": \"Animalia (book cover).jpg\", \"alt\": \"Book cover: a larger picture framed by smaller pictures, all of which contain different animals, and title with author at the top\", \"author\": \"Graeme Base\", \"illustrator\": \"Graeme Base\", \"country\": \"Australia\", \"language\": \"English\", \"genre\": \"Picture books\", \"publisher\": \"Harcourt Brace Jovanovich\", \"release_date\": \"1986\", \"pages\": \"32\", \"isbn\": \"0-810-91868-4\"}, [\"Graeme Base\", \"Picture books\", \"Harcourt Brace Jovanovich\", \"Children\\'s literature\", \"Graeme Base\", \"alliteration\", \"alphabet\", \"alligator\", \"butterfly\", \"colouring book\", \"Abrams Books\", \"Animalia (TV series)\", \"Venezuela\", \"Minimax (TV channel)\", \"Czech Republic\", \"Slovakia\", \"Greece\", \"ET1 (Greece)\", \"Australian Children\\'s Television Foundation\", \"iPad\", \"iPhone\", \"iPod Touch\", \"Children\\'s Book Council of Australia\", \"Children\\'s Book of the Year Award: Picture Book\", \"Category:Alphabet books\", \"Category:1986 children\\'s books\", \"Category:Picture books by Graeme Base\", \"Category:Puzzle books\", \"Category:Australian children\\'s books\"]]'"
      ]
     },
     "execution_count": 8,
     "metadata": {},
     "output_type": "execute_result"
    }
   ],
   "source": [
    "data[0].strip()"
   ]
  },
  {
   "cell_type": "code",
   "execution_count": 14,
   "metadata": {},
   "outputs": [],
   "source": [
    "import json\n",
    "\n",
    "data = []\n",
    "with open(file, 'r') as f:\n",
    "    for line in f:\n",
    "        data.append(json.loads(line))"
   ]
  },
  {
   "cell_type": "code",
   "execution_count": 15,
   "metadata": {},
   "outputs": [
    {
     "data": {
      "text/plain": [
       "['Animalia (book)',\n",
       " {'1': '< !-- See Wikipedia:WikiProject_Novels or Wikipedia:WikiProject_Books -- >',\n",
       "  'name': 'Animalia',\n",
       "  'image': 'Animalia (book cover).jpg',\n",
       "  'alt': 'Book cover: a larger picture framed by smaller pictures, all of which contain different animals, and title with author at the top',\n",
       "  'author': 'Graeme Base',\n",
       "  'illustrator': 'Graeme Base',\n",
       "  'country': 'Australia',\n",
       "  'language': 'English',\n",
       "  'genre': 'Picture books',\n",
       "  'publisher': 'Harcourt Brace Jovanovich',\n",
       "  'release_date': '1986',\n",
       "  'pages': '32',\n",
       "  'isbn': '0-810-91868-4'},\n",
       " ['Graeme Base',\n",
       "  'Picture books',\n",
       "  'Harcourt Brace Jovanovich',\n",
       "  \"Children's literature\",\n",
       "  'Graeme Base',\n",
       "  'alliteration',\n",
       "  'alphabet',\n",
       "  'alligator',\n",
       "  'butterfly',\n",
       "  'colouring book',\n",
       "  'Abrams Books',\n",
       "  'Animalia (TV series)',\n",
       "  'Venezuela',\n",
       "  'Minimax (TV channel)',\n",
       "  'Czech Republic',\n",
       "  'Slovakia',\n",
       "  'Greece',\n",
       "  'ET1 (Greece)',\n",
       "  \"Australian Children's Television Foundation\",\n",
       "  'iPad',\n",
       "  'iPhone',\n",
       "  'iPod Touch',\n",
       "  \"Children's Book Council of Australia\",\n",
       "  \"Children's Book of the Year Award: Picture Book\",\n",
       "  'Category:Alphabet books',\n",
       "  \"Category:1986 children's books\",\n",
       "  'Category:Picture books by Graeme Base',\n",
       "  'Category:Puzzle books',\n",
       "  \"Category:Australian children's books\"]]"
      ]
     },
     "execution_count": 15,
     "metadata": {},
     "output_type": "execute_result"
    }
   ],
   "source": [
    "data[0]"
   ]
  },
  {
   "cell_type": "code",
   "execution_count": 59,
   "metadata": {},
   "outputs": [
    {
     "ename": "NameError",
     "evalue": "name 'books' is not defined",
     "output_type": "error",
     "traceback": [
      "\u001b[0;31m---------------------------------------------------------------------------\u001b[0m",
      "\u001b[0;31mNameError\u001b[0m                                 Traceback (most recent call last)",
      "\u001b[0;32m<ipython-input-59-cca079ade52f>\u001b[0m in \u001b[0;36m<module>\u001b[0;34m()\u001b[0m\n\u001b[1;32m      1\u001b[0m \u001b[0mlink_counts\u001b[0m \u001b[0;34m=\u001b[0m \u001b[0mCounter\u001b[0m\u001b[0;34m(\u001b[0m\u001b[0;34m)\u001b[0m\u001b[0;34m\u001b[0m\u001b[0m\n\u001b[0;32m----> 2\u001b[0;31m \u001b[0;32mfor\u001b[0m \u001b[0mbook\u001b[0m \u001b[0;32min\u001b[0m \u001b[0mbooks\u001b[0m\u001b[0;34m:\u001b[0m\u001b[0;34m\u001b[0m\u001b[0m\n\u001b[0m\u001b[1;32m      3\u001b[0m     \u001b[0mlink_counts\u001b[0m\u001b[0;34m.\u001b[0m\u001b[0mupdate\u001b[0m\u001b[0;34m(\u001b[0m\u001b[0mbook\u001b[0m\u001b[0;34m[\u001b[0m\u001b[0;36m2\u001b[0m\u001b[0;34m]\u001b[0m\u001b[0;34m)\u001b[0m\u001b[0;34m\u001b[0m\u001b[0m\n\u001b[1;32m      4\u001b[0m \u001b[0;34m\u001b[0m\u001b[0m\n\u001b[1;32m      5\u001b[0m \u001b[0mlink_counts\u001b[0m\u001b[0;34m.\u001b[0m\u001b[0mmost_common\u001b[0m\u001b[0;34m(\u001b[0m\u001b[0;36m10\u001b[0m\u001b[0;34m)\u001b[0m\u001b[0;34m\u001b[0m\u001b[0m\n",
      "\u001b[0;31mNameError\u001b[0m: name 'books' is not defined"
     ]
    }
   ],
   "source": [
    "link_counts = Counter()\n",
    "for book in books:\n",
    "    link_counts.update(book[2])\n",
    "    \n",
    "link_counts.most_common(10)"
   ]
  },
  {
   "cell_type": "code",
   "execution_count": null,
   "metadata": {},
   "outputs": [],
   "source": []
  }
 ],
 "metadata": {
  "kernelspec": {
   "display_name": "Python 3",
   "language": "python",
   "name": "python3"
  },
  "language_info": {
   "codemirror_mode": {
    "name": "ipython",
    "version": 3
   },
   "file_extension": ".py",
   "mimetype": "text/x-python",
   "name": "python",
   "nbconvert_exporter": "python",
   "pygments_lexer": "ipython3",
   "version": "3.6.4"
  }
 },
 "nbformat": 4,
 "nbformat_minor": 2
}
