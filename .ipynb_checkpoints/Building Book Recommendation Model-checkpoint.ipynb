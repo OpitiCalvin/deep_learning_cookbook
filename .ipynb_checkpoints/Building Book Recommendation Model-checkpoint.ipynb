{
 "cells": [
  {
   "cell_type": "code",
   "execution_count": 1,
   "metadata": {},
   "outputs": [
    {
     "name": "stderr",
     "output_type": "stream",
     "text": [
      "Using TensorFlow backend.\n"
     ]
    }
   ],
   "source": [
    "import json\n",
    "from collections import Counter\n",
    "from keras.models import Model\n",
    "from keras.layers import Embedding, Input, Reshape\n",
    "from keras.layers.merge import Dot\n",
    "from sklearn.linear_model import LinearRegression\n",
    "import numpy as np\n",
    "import random\n",
    "from sklearn import svm\n",
    "\n",
    "from IPython.core.interactiveshell import InteractiveShell\n",
    "InteractiveShell.ast_node_interactivity = \"all\""
   ]
  },
  {
   "cell_type": "code",
   "execution_count": 3,
   "metadata": {},
   "outputs": [
    {
     "data": {
      "text/plain": [
       "36552"
      ]
     },
     "execution_count": 3,
     "metadata": {},
     "output_type": "execute_result"
    }
   ],
   "source": [
    "books = []\n",
    "\n",
    "with open('/data/books.ndjson') as fin:\n",
    "    for line in fin.readlines():\n",
    "        # Use loads because this is an object\n",
    "        books.append(json.loads(line))\n",
    "        \n",
    "len(books)"
   ]
  },
  {
   "cell_type": "code",
   "execution_count": 4,
   "metadata": {},
   "outputs": [
    {
     "data": {
      "text/plain": [
       "[('Hardcover', 7603),\n",
       " ('Paperback', 7451),\n",
       " ('Wikipedia:WikiProject Books', 6081),\n",
       " ('Wikipedia:WikiProject Novels', 6053),\n",
       " ('English language', 4259),\n",
       " ('The New York Times', 3909),\n",
       " ('United States', 3366),\n",
       " ('Science fiction', 3105),\n",
       " ('science fiction', 2648),\n",
       " ('Publishers Weekly', 2350)]"
      ]
     },
     "execution_count": 4,
     "metadata": {},
     "output_type": "execute_result"
    }
   ],
   "source": [
    "link_counts = Counter()\n",
    "\n",
    "for book in books:\n",
    "    link_counts.update(book[2])\n",
    "    \n",
    "link_counts.most_common(10)"
   ]
  },
  {
   "cell_type": "code",
   "execution_count": 5,
   "metadata": {},
   "outputs": [
    {
     "data": {
      "text/plain": [
       "'Blade Runner 2: The Edge of Human'"
      ]
     },
     "execution_count": 5,
     "metadata": {},
     "output_type": "execute_result"
    }
   ],
   "source": [
    "books[10][0]"
   ]
  },
  {
   "cell_type": "code",
   "execution_count": 6,
   "metadata": {},
   "outputs": [
    {
     "data": {
      "text/plain": [
       "{'name': 'Blade Runner 2: < br > The Edge of Human',\n",
       " 'author': 'K. W. Jeter',\n",
       " 'language': 'English',\n",
       " 'country': 'United States',\n",
       " 'genre': 'Science fiction',\n",
       " 'isbn': '0-553-09979-5',\n",
       " '1': '< !-- See Wikipedia:WikiProject_Novels or Wikipedia:WikiProject_Books -- >',\n",
       " 'image': 'File:Blade Runner 2 The Edge of Human KW Jeter cover.jpg',\n",
       " 'series': 'Blade Runner',\n",
       " 'release_date': 'October 1, 1995',\n",
       " 'media_type': 'Print (Hardcover, Paperback)',\n",
       " 'pages': '340',\n",
       " 'dewey': '813/.54 20',\n",
       " 'congress': 'PS3560.E85 B58 1995',\n",
       " 'oclc': '32548543',\n",
       " 'preceded_by': 'Do Androids Dream of Electric Sheep?',\n",
       " 'followed_by': 'Replicant Night',\n",
       " 'caption': 'Cover of the first edition'}"
      ]
     },
     "execution_count": 6,
     "metadata": {},
     "output_type": "execute_result"
    }
   ],
   "source": [
    "books[10][1]"
   ]
  },
  {
   "cell_type": "code",
   "execution_count": 10,
   "metadata": {},
   "outputs": [
    {
     "name": "stdout",
     "output_type": "stream",
     "text": [
      "There are 38357 links with more than 4 occurrences.\n",
      "There are 36552 books.\n"
     ]
    }
   ],
   "source": [
    "top_links = [link for link, c in link_counts.items() if c >= 5]\n",
    "\n",
    "link_to_idx = {link: idx for idx, link in enumerate(top_links)}\n",
    "idx_to_link = {idx: link for link, idx in link_to_idx.items()}\n",
    "\n",
    "book_to_idx = {book[0]: idx for idx, book in enumerate(books)}\n",
    "idx_to_book = {idx: book for book, idx in book_to_idx.items()}\n",
    "\n",
    "print(f'There are {len(top_links)} links with more than 4 occurrences.')\n",
    "print(f'There are {len(book_to_idx)} books.')"
   ]
  },
  {
   "cell_type": "code",
   "execution_count": null,
   "metadata": {},
   "outputs": [],
   "source": [
    "%%timeit -n 1 -r 3\n",
    "\n",
    "pairs = []\n",
    "\n",
    "for book in books[:10000]:\n",
    "    # Iterate through book's outgoing links\n",
    "    for link in book[2]:\n",
    "        # Add the link if in top links\n",
    "        if link in top_links:\n",
    "            # Append as a tuple\n",
    "            pairs.append((link_to_idx[link], book_to_idx[book[0]]))"
   ]
  },
  {
   "cell_type": "code",
   "execution_count": null,
   "metadata": {},
   "outputs": [],
   "source": [
    "%%timeit -n 1 -r 3\n",
    "\n",
    "pairs = []\n",
    "\n",
    "for book in books[:10000]:\n",
    "    # Iterate through book's outgoing links\n",
    "    for link in book[2]:\n",
    "        # Add the link if in top links\n",
    "        if link in top_links:\n",
    "            # Append as a tuple\n",
    "            pairs.extend((link_to_idx[link], book_to_idx[book[0]]))"
   ]
  },
  {
   "cell_type": "code",
   "execution_count": 11,
   "metadata": {},
   "outputs": [
    {
     "ename": "KeyboardInterrupt",
     "evalue": "",
     "output_type": "error",
     "traceback": [
      "\u001b[0;31m---------------------------------------------------------------------------\u001b[0m",
      "\u001b[0;31mKeyboardInterrupt\u001b[0m                         Traceback (most recent call last)",
      "\u001b[0;32m<ipython-input-11-661d3348b023>\u001b[0m in \u001b[0;36m<module>\u001b[0;34m()\u001b[0m\n\u001b[1;32m      5\u001b[0m     \u001b[0;32mfor\u001b[0m \u001b[0mlink\u001b[0m \u001b[0;32min\u001b[0m \u001b[0mbook\u001b[0m\u001b[0;34m[\u001b[0m\u001b[0;36m2\u001b[0m\u001b[0;34m]\u001b[0m\u001b[0;34m:\u001b[0m\u001b[0;34m\u001b[0m\u001b[0m\n\u001b[1;32m      6\u001b[0m         \u001b[0;31m# Add the link if in top links\u001b[0m\u001b[0;34m\u001b[0m\u001b[0;34m\u001b[0m\u001b[0m\n\u001b[0;32m----> 7\u001b[0;31m         \u001b[0;32mif\u001b[0m \u001b[0mlink\u001b[0m \u001b[0;32min\u001b[0m \u001b[0mtop_links\u001b[0m\u001b[0;34m:\u001b[0m\u001b[0;34m\u001b[0m\u001b[0m\n\u001b[0m\u001b[1;32m      8\u001b[0m             \u001b[0;31m# Append as a tuple\u001b[0m\u001b[0;34m\u001b[0m\u001b[0;34m\u001b[0m\u001b[0m\n\u001b[1;32m      9\u001b[0m             \u001b[0mpairs\u001b[0m\u001b[0;34m.\u001b[0m\u001b[0mappend\u001b[0m\u001b[0;34m(\u001b[0m\u001b[0;34m(\u001b[0m\u001b[0mlink_to_idx\u001b[0m\u001b[0;34m[\u001b[0m\u001b[0mlink\u001b[0m\u001b[0;34m]\u001b[0m\u001b[0;34m,\u001b[0m \u001b[0mbook_to_idx\u001b[0m\u001b[0;34m[\u001b[0m\u001b[0mbook\u001b[0m\u001b[0;34m[\u001b[0m\u001b[0;36m0\u001b[0m\u001b[0;34m]\u001b[0m\u001b[0;34m]\u001b[0m\u001b[0;34m)\u001b[0m\u001b[0;34m)\u001b[0m\u001b[0;34m\u001b[0m\u001b[0m\n",
      "\u001b[0;31mKeyboardInterrupt\u001b[0m: "
     ]
    }
   ],
   "source": [
    "pairs = []\n",
    "\n",
    "for book in books:\n",
    "    # Iterate through book's outgoing links\n",
    "    for link in book[2]:\n",
    "        # Add the link if in top links\n",
    "        if link in top_links:\n",
    "            # Append as a tuple\n",
    "            pairs.append((link_to_idx[link], book_to_idx[book[0]]))\n",
    "\n",
    "print(f'There are {len(pairs)} pairs of links and books.')"
   ]
  },
  {
   "cell_type": "code",
   "execution_count": 12,
   "metadata": {},
   "outputs": [
    {
     "data": {
      "text/plain": [
       "246536"
      ]
     },
     "execution_count": 12,
     "metadata": {},
     "output_type": "execute_result"
    }
   ],
   "source": [
    "len(pairs)"
   ]
  },
  {
   "cell_type": "code",
   "execution_count": 20,
   "metadata": {},
   "outputs": [],
   "source": [
    "book_link_counts = list(map(lambda x: (x[0], len(x[2])), books))"
   ]
  },
  {
   "cell_type": "code",
   "execution_count": 21,
   "metadata": {},
   "outputs": [
    {
     "data": {
      "text/plain": [
       "[('Animalia (book)', 29),\n",
       " ('Animal Farm', 294),\n",
       " ('A Modest Proposal', 67),\n",
       " ('A Clockwork Orange (novel)', 181),\n",
       " ('An Enquiry Concerning Human Understanding', 48),\n",
       " ('A Fire Upon the Deep', 72),\n",
       " ('All Quiet on the Western Front', 110),\n",
       " ('A Wizard of Earthsea', 143),\n",
       " (\"Ain't I a Woman? (book)\", 32),\n",
       " ('Blade Runner 3: Replicant Night', 27)]"
      ]
     },
     "execution_count": 21,
     "metadata": {},
     "output_type": "execute_result"
    }
   ],
   "source": [
    "book_link_counts[:10]"
   ]
  },
  {
   "cell_type": "code",
   "execution_count": 13,
   "metadata": {},
   "outputs": [
    {
     "data": {
      "text/plain": [
       "(597, 21)"
      ]
     },
     "execution_count": 13,
     "metadata": {},
     "output_type": "execute_result"
    },
    {
     "data": {
      "text/plain": [
       "'prescience'"
      ]
     },
     "execution_count": 13,
     "metadata": {},
     "output_type": "execute_result"
    },
    {
     "data": {
      "text/plain": [
       "'Dune Messiah'"
      ]
     },
     "execution_count": 13,
     "metadata": {},
     "output_type": "execute_result"
    }
   ],
   "source": [
    "pairs[1500]\n",
    "idx_to_link[pairs[1500][0]]\n",
    "idx_to_book[pairs[1500][1]]"
   ]
  },
  {
   "cell_type": "code",
   "execution_count": null,
   "metadata": {},
   "outputs": [],
   "source": []
  }
 ],
 "metadata": {
  "kernelspec": {
   "display_name": "Environment (conda_tensorflow_p36)",
   "language": "python",
   "name": "conda_tensorflow_p36"
  },
  "language_info": {
   "codemirror_mode": {
    "name": "ipython",
    "version": 3
   },
   "file_extension": ".py",
   "mimetype": "text/x-python",
   "name": "python",
   "nbconvert_exporter": "python",
   "pygments_lexer": "ipython3",
   "version": "3.6.6"
  }
 },
 "nbformat": 4,
 "nbformat_minor": 2
}
