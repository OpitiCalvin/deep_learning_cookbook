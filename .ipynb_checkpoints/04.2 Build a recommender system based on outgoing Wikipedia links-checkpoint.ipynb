{
 "cells": [
  {
   "cell_type": "code",
   "execution_count": 2,
   "metadata": {},
   "outputs": [],
   "source": [
    "import json\n",
    "from collections import Counter\n",
    "from keras.models import Model\n",
    "from keras.layers import Embedding, Input, Reshape\n",
    "from keras.layers.merge import Dot\n",
    "from sklearn.linear_model import LinearRegression\n",
    "import numpy as np\n",
    "import random\n",
    "from sklearn import svm\n",
    "\n",
    "from IPython.core.interactiveshell import InteractiveShell\n",
    "InteractiveShell.ast_node_interactivity = \"all\""
   ]
  },
  {
   "cell_type": "code",
   "execution_count": 3,
   "metadata": {},
   "outputs": [],
   "source": [
    "with open('data/wp_movies_10k.ndjson') as fin:\n",
    "    movies = [json.loads(l) for l in fin]"
   ]
  },
  {
   "cell_type": "code",
   "execution_count": 4,
   "metadata": {},
   "outputs": [
    {
     "data": {
      "text/plain": [
       "[('Rotten Tomatoes', 9393),\n",
       " ('Category:English-language films', 5882),\n",
       " ('Category:American films', 5867),\n",
       " ('Variety (magazine)', 5450),\n",
       " ('Metacritic', 5112),\n",
       " ('Box Office Mojo', 4186),\n",
       " ('The New York Times', 3818),\n",
       " ('The Hollywood Reporter', 3553),\n",
       " ('Roger Ebert', 2707),\n",
       " ('Los Angeles Times', 2454)]"
      ]
     },
     "execution_count": 4,
     "metadata": {},
     "output_type": "execute_result"
    }
   ],
   "source": [
    "link_counts = Counter()\n",
    "for movie in movies:\n",
    "    link_counts.update(movie[2])\n",
    "link_counts.most_common(10)"
   ]
  },
  {
   "cell_type": "code",
   "execution_count": 5,
   "metadata": {},
   "outputs": [
    {
     "data": {
      "text/plain": [
       "'The Revenant (2015 film)'"
      ]
     },
     "execution_count": 5,
     "metadata": {},
     "output_type": "execute_result"
    }
   ],
   "source": [
    "movies[1][0]"
   ]
  },
  {
   "cell_type": "code",
   "execution_count": 6,
   "metadata": {},
   "outputs": [
    {
     "data": {
      "text/plain": [
       "{'image': 'The Revenant 2015 film poster.jpg',\n",
       " 'name': 'The Revenant',\n",
       " 'cinematography': 'Emmanuel Lubezki',\n",
       " 'language': 'English',\n",
       " 'distributor': '20th Century Fox',\n",
       " 'caption': 'Theatrical release poster',\n",
       " 'gross': '$533 million',\n",
       " 'country': 'United States',\n",
       " 'director': 'Alejandro G. Iñárritu',\n",
       " 'budget': '$135 million',\n",
       " 'editing': 'Stephen Mirrione',\n",
       " 'runtime': '156 minutes'}"
      ]
     },
     "execution_count": 6,
     "metadata": {},
     "output_type": "execute_result"
    }
   ],
   "source": [
    "movies[1][1]"
   ]
  },
  {
   "cell_type": "code",
   "execution_count": 7,
   "metadata": {},
   "outputs": [
    {
     "data": {
      "text/plain": [
       "['Alejandro González Iñárritu',\n",
       " 'Arnon Milchan',\n",
       " 'Steve Golin',\n",
       " 'Mary Parent',\n",
       " 'Keith Redmon',\n",
       " 'James W. Skotchdopole',\n",
       " 'Mark L. Smith',\n",
       " 'The Revenant (novel)',\n",
       " 'Michael Punke',\n",
       " 'Leonardo DiCaprio',\n",
       " 'Tom Hardy',\n",
       " 'Domhnall Gleeson',\n",
       " 'Will Poulter',\n",
       " 'Ryuichi Sakamoto',\n",
       " 'Alva Noto',\n",
       " 'Emmanuel Lubezki',\n",
       " 'Stephen Mirrione',\n",
       " '20th Century Fox',\n",
       " 'TCL Chinese Theatre',\n",
       " 'British Board of Film Classification',\n",
       " 'TheWrap',\n",
       " 'Box Office Mojo',\n",
       " 'Regency Enterprises',\n",
       " 'RatPac-Dune Entertainment',\n",
       " 'Anonymous Content',\n",
       " 'Appian Way Productions',\n",
       " 'Biographical film',\n",
       " 'Business Insider',\n",
       " 'Western (genre)',\n",
       " 'Alejandro González Iñárritu',\n",
       " 'Mark L. Smith',\n",
       " 'Michael Punke',\n",
       " 'The Revenant (novel)',\n",
       " 'frontiersman',\n",
       " 'Hugh Glass',\n",
       " 'Leonardo DiCaprio',\n",
       " 'Tom Hardy',\n",
       " 'Domhnall Gleeson',\n",
       " 'Will Poulter',\n",
       " 'Akiva Goldsman',\n",
       " 'Principal photography',\n",
       " 'TCL Chinese Theatre',\n",
       " 'limited release',\n",
       " 'wide release',\n",
       " 'cinematography',\n",
       " 'Golden Globe Awards',\n",
       " 'BAFTA Awards',\n",
       " '88th Academy Awards',\n",
       " 'Emmanuel Lubezki',\n",
       " 'Academy Award for Best Director',\n",
       " 'Academy Award for Best Actor',\n",
       " 'Academy Award for Best Cinematography',\n",
       " 'Golden Globe Award for Best Actor – Motion Picture Drama',\n",
       " 'Screen Actors Guild Award for Outstanding Performance by a Male Actor in a Leading Role',\n",
       " \"Critics' Choice Movie Award for Best Actor\",\n",
       " 'BAFTA Award for Best Actor in a Leading Role',\n",
       " 'Hugh Glass',\n",
       " 'Andrew Henry (fur trader)',\n",
       " 'trapping',\n",
       " 'unorganized territory',\n",
       " 'Pawnee people',\n",
       " 'Arikara',\n",
       " 'Fort Kiowa',\n",
       " 'grizzly bear',\n",
       " 'Euthanasia',\n",
       " 'Jim Bridger',\n",
       " 'Disembowelment',\n",
       " 'Leonardo DiCaprio',\n",
       " 'Hugh Glass',\n",
       " 'Tom Hardy',\n",
       " 'Domhnall Gleeson',\n",
       " 'Andrew Henry (fur trader)',\n",
       " 'Will Poulter',\n",
       " 'Jim Bridger',\n",
       " 'Forrest Goodluck',\n",
       " 'Duane Howard',\n",
       " 'Arthur Redcloud',\n",
       " \"Melaw Nakehk'o\",\n",
       " 'Grace Dove',\n",
       " 'Lukas Haas',\n",
       " 'Paul Anderson (actor)',\n",
       " 'Kristoffer Joner',\n",
       " 'Brendan Fletcher',\n",
       " 'Brad Carter',\n",
       " 'Akiva Goldsman',\n",
       " 'Michael Punke',\n",
       " 'Park Chan-wook',\n",
       " 'Samuel L. Jackson',\n",
       " 'Mark L. Smith',\n",
       " 'Steve Golin',\n",
       " 'Anonymous Content',\n",
       " 'John Hillcoat',\n",
       " 'Christian Bale',\n",
       " 'Jean-François Richet',\n",
       " 'Alejandro G. Iñárritu',\n",
       " 'Regency Enterprises',\n",
       " '20th Century Fox',\n",
       " 'Leonardo DiCaprio',\n",
       " 'Sean Penn',\n",
       " 'File:Alejandro González Iñárritu 2014.jpg',\n",
       " 'Alejandro González Iñárritu',\n",
       " 'Birdman (film)',\n",
       " 'Wrap (filmmaking)',\n",
       " 'Brett Ratner',\n",
       " 'Worldview Entertainment',\n",
       " 'Christopher Woodrow',\n",
       " 'Guarantee (filmmaking)',\n",
       " 'Tom Hardy',\n",
       " 'Annapurna Pictures',\n",
       " 'Megan Ellison',\n",
       " 'Guangdong Alpha Animation and Culture Company',\n",
       " 'Principal photography',\n",
       " 'Suicide Squad (film)',\n",
       " 'sunlight',\n",
       " 'New Regency Pictures',\n",
       " 'Calgary',\n",
       " 'Fortress Mountain Resort',\n",
       " 'Alberta',\n",
       " 'Squamish, British Columbia',\n",
       " 'Burnaby',\n",
       " 'British Columbia',\n",
       " 'Libby, Montana',\n",
       " 'Argentina',\n",
       " 'Mary Parent',\n",
       " 'Industrial Light & Magic',\n",
       " 'Moving Picture Company',\n",
       " 'Cinesite',\n",
       " 'Film score',\n",
       " 'Ryuichi Sakamoto',\n",
       " 'Square Enix',\n",
       " 'Dawn of Mana',\n",
       " 'The Last Emperor',\n",
       " 'Bernardo Bertolucci',\n",
       " 'Poppoya',\n",
       " 'Yasuo Furuhata',\n",
       " 'Tony Takitani',\n",
       " 'Jun Ichikawa',\n",
       " 'Chizuru Ikewaki',\n",
       " 'Mao Inoue',\n",
       " 'Alva Noto',\n",
       " 'Bryce Dessner',\n",
       " 'Consequence of Sound',\n",
       " 'Northwest Sinfonia',\n",
       " 'André de Ridder',\n",
       " 'Pitchfork Media',\n",
       " 'Condé Nast',\n",
       " 'John Luther Adams',\n",
       " 'Seattle Symphony',\n",
       " 'Ludovic Morlot',\n",
       " 'Eliane Radigue',\n",
       " 'Milan Records',\n",
       " 'Academy Award',\n",
       " 'Academy Award for Best Original Score',\n",
       " '88th Academy Awards',\n",
       " 'YouTube',\n",
       " 'YouTube.com',\n",
       " 'Los Angeles Review of Books',\n",
       " 'Wai Chee Dimock',\n",
       " 'James Fenimore Cooper',\n",
       " 'The Last of the Mohicans',\n",
       " 'half-breed',\n",
       " 'Natty Bumppo',\n",
       " 'Los Angeles Review of Books',\n",
       " 'File:Cheyenne River IR.jpg',\n",
       " 'Cheyenne River Indian Reservation',\n",
       " 'South Dakota',\n",
       " 'The Guardian',\n",
       " 'The Guardian',\n",
       " 'American Rifleman',\n",
       " 'American Rifleman',\n",
       " 'Inupiak',\n",
       " 'language family',\n",
       " 'Pawnee language',\n",
       " 'John Luther Adams',\n",
       " 'Inuit',\n",
       " 'Uvavnuk',\n",
       " 'angakkuq',\n",
       " 'oral poetry',\n",
       " 'Roy Dupuis',\n",
       " 'French Canadians',\n",
       " 'voyageurs',\n",
       " 'Canada Research Chair',\n",
       " 'limited release',\n",
       " 'Los Angeles',\n",
       " '88th Academy Awards',\n",
       " 'King Features',\n",
       " 'The Philippine Star',\n",
       " 'China',\n",
       " '88th Academy Awards',\n",
       " 'Los Angeles Times',\n",
       " 'DVD',\n",
       " 'Blu-ray',\n",
       " '4K Ultra HD Blu-ray',\n",
       " 'The Hateful Eight',\n",
       " 'Creed (film)',\n",
       " 'Straight Outta Compton (film)',\n",
       " 'The Peanuts Movie',\n",
       " 'Deadline.com',\n",
       " 'limited release',\n",
       " 'New York City',\n",
       " 'Los Angeles',\n",
       " 'Steve Jobs (2015 film)',\n",
       " 'Forbes',\n",
       " 'wide release',\n",
       " 'Forbes',\n",
       " 'Star Wars: The Force Awakens',\n",
       " 'Ride Along 2',\n",
       " 'January 2016 United States blizzard',\n",
       " 'East Coast of the United States',\n",
       " 'Entertainment Weekly',\n",
       " 'Kung Fu Panda 3',\n",
       " 'The Guardian',\n",
       " 'The Guardian',\n",
       " 'The Guardian',\n",
       " 'Forbes',\n",
       " 'Forbes',\n",
       " 'Zootopia',\n",
       " 'Rotten Tomatoes',\n",
       " 'Metacritic',\n",
       " 'weighted average',\n",
       " 'CinemaScore',\n",
       " 'File:Tom Hardy TIFF 2014.jpg',\n",
       " 'Tom Hardy',\n",
       " 'Peter Travers',\n",
       " 'Rolling Stone',\n",
       " 'NY Magazine',\n",
       " 'Variety (magazine)',\n",
       " 'Richard Brody',\n",
       " 'The New Yorker',\n",
       " 'Emmanuel Lubezki',\n",
       " 'Slant Magazine',\n",
       " 'Terrence Malick',\n",
       " 'The New World (2005 film)',\n",
       " 'Emmanuel Lubezki',\n",
       " 'Roland Emmerich',\n",
       " 'Howard Hawks',\n",
       " 'The Big Sky (film)',\n",
       " 'Saving Private Ryan',\n",
       " 'Metacritic',\n",
       " 'Rotten Tomatoes',\n",
       " 'Rotten Tomatoes',\n",
       " 'Indiewire',\n",
       " 'File:Leonardo DiCaprio 2016 2.jpg',\n",
       " 'Leonardo DiCaprio',\n",
       " 'Academy Award for Best Actor',\n",
       " '88th Academy Awards',\n",
       " '88th Academy Awards',\n",
       " 'Emmanuel Lubezki',\n",
       " 'Academy Award for Best Cinematography',\n",
       " 'Academy Award for Best Actor',\n",
       " 'Mark Rylance',\n",
       " 'Bridge of Spies (film)',\n",
       " 'Academy Award for Best Picture',\n",
       " 'Spotlight (film)',\n",
       " '73rd Golden Globe Awards',\n",
       " 'Golden Globe Award for Best Motion Picture – Drama',\n",
       " 'Golden Globe Award for Best Director',\n",
       " 'Golden Globe Award for Best Actor – Motion Picture Drama',\n",
       " 'Golden Globe Award for Best Original Score',\n",
       " 'Academy Award',\n",
       " 'Academy Award for Best Picture',\n",
       " 'Academy Award for Best Director',\n",
       " 'Academy Award for Best Actor',\n",
       " 'Academy Award for Best Supporting Actor',\n",
       " '69th British Academy Film Awards',\n",
       " 'BAFTA Award for Best Film',\n",
       " 'BAFTA Award for Best Direction',\n",
       " 'BAFTA Award for Best Cinematography',\n",
       " 'BAFTA Award for Best Sound',\n",
       " 'BAFTA Award for Best Actor in a Leading Role',\n",
       " 'The Daily Telegraph',\n",
       " \"Critics' Choice Awards\",\n",
       " \"Critics' Choice Movie Award for Best Actor\",\n",
       " \"Critics' Choice Movie Award for Best Cinematography\",\n",
       " 'Broadcast Film Critics Association',\n",
       " 'Tom Hardy',\n",
       " \"London Film Critics' Circle Award for British Actor of the Year\",\n",
       " \"London Film Critics' Circle\",\n",
       " 'Dallas–Fort Worth Film Critics Association Award for Best Supporting Actor',\n",
       " 'Dallas–Fort Worth Film Critics Association',\n",
       " 'Screen Actors Guild Award for Outstanding Performance by a Male Actor in a Leading Role',\n",
       " '22nd Screen Actors Guild Awards',\n",
       " 'Directors Guild of America Award for Outstanding Directing – Feature Film',\n",
       " '68th Directors Guild of America Awards',\n",
       " 'Directors Guild of America',\n",
       " '20th Satellite Awards',\n",
       " 'Satellite Award for Best Actor – Motion Picture',\n",
       " 'Time (magazine)',\n",
       " 'John Kerry',\n",
       " 'Survival film',\n",
       " 'Man in the Wilderness',\n",
       " 'Lord Grizzly',\n",
       " 'Frederick Manfred',\n",
       " 'The Hollywood Reporter',\n",
       " 'Collider.com',\n",
       " 'Raidió Teilifís Éireann',\n",
       " 'IGN',\n",
       " 'Bloody Disgusting',\n",
       " 'New York (magazine)',\n",
       " 'Screen International',\n",
       " '/Film',\n",
       " 'Dark Horizons',\n",
       " 'Entertainment Tonight Canada',\n",
       " 'Deadline.com',\n",
       " 'Collider.com',\n",
       " 'Movie Review Query Engine',\n",
       " 'Category:2015 films',\n",
       " 'Category:American films',\n",
       " 'Category:English-language films',\n",
       " 'Category:2010s adventure films',\n",
       " 'Category:2010s drama films',\n",
       " 'Category:2010s thriller films',\n",
       " 'Category:2010s Western (genre) films',\n",
       " 'Category:Action adventure films',\n",
       " 'Category:American adventure drama films',\n",
       " 'Category:American Indian Wars films',\n",
       " 'Category:American thriller films',\n",
       " 'Category:American Western (genre) films',\n",
       " 'Category:Annie Award winners',\n",
       " 'Category:Films about revenge',\n",
       " 'Category:Films directed by Alejandro González Iñárritu',\n",
       " 'Category:Films produced by Steve Golin',\n",
       " 'Category:Films set in the 1820s',\n",
       " 'Category:Films set in South Dakota',\n",
       " 'Category:Films set in Montana',\n",
       " 'Category:Films shot in British Columbia',\n",
       " 'Category:Films shot in Calgary',\n",
       " 'Category:Films shot in Argentina',\n",
       " 'Category:Films featuring a Best Drama Actor Golden Globe winning performance',\n",
       " 'Category:Films whose director won the Best Direction BAFTA Award',\n",
       " 'Category:Films whose director won the Best Director Golden Globe',\n",
       " 'Category:IMAX films',\n",
       " 'Category:Screenplays by Alejandro González Iñárritu',\n",
       " 'Category:Survival films',\n",
       " 'Category:Appian Way Productions films',\n",
       " 'Category:Regency Enterprises films',\n",
       " 'Category:20th Century Fox films',\n",
       " 'Category:Films based on American novels',\n",
       " 'Category:Films whose cinematographer won the Best Cinematography Academy Award',\n",
       " 'Category:Films whose director won the Best Directing Academy Award',\n",
       " 'Category:Films featuring a Best Actor Academy Award-winning performance',\n",
       " 'Category:Western (genre) films based on actual events']"
      ]
     },
     "execution_count": 7,
     "metadata": {},
     "output_type": "execute_result"
    }
   ],
   "source": [
    "movies[1][2]"
   ]
  },
  {
   "cell_type": "code",
   "execution_count": 8,
   "metadata": {},
   "outputs": [
    {
     "data": {
      "text/plain": [
       "(949544, 66913, 10000)"
      ]
     },
     "execution_count": 8,
     "metadata": {},
     "output_type": "execute_result"
    }
   ],
   "source": [
    "top_links = [link for link, c in link_counts.items() if c >= 3]\n",
    "link_to_idx = {link: idx for idx, link in enumerate(top_links)}\n",
    "idx_to_link = {idx: link for link, idx in link_to_idx.items()}\n",
    "\n",
    "movie_to_idx = {movie[0]: idx for idx, movie in enumerate(movies)}\n",
    "idx_to_movie = {idx: movie for movie, idx in movie_to_idx.items()}\n",
    "\n",
    "pairs = []\n",
    "for movie in movies:\n",
    "    pairs.extend((link_to_idx[link], movie_to_idx[movie[0]]) for link in movie[2] if link in link_to_idx)\n",
    "pairs_set = set(pairs)\n",
    "len(pairs), len(top_links), len(movie_to_idx)"
   ]
  },
  {
   "cell_type": "code",
   "execution_count": 9,
   "metadata": {},
   "outputs": [
    {
     "data": {
      "text/plain": [
       "(1, 0)"
      ]
     },
     "execution_count": 9,
     "metadata": {},
     "output_type": "execute_result"
    },
    {
     "data": {
      "text/plain": [
       "'Simon Kinberg'"
      ]
     },
     "execution_count": 9,
     "metadata": {},
     "output_type": "execute_result"
    },
    {
     "data": {
      "text/plain": [
       "'Deadpool (film)'"
      ]
     },
     "execution_count": 9,
     "metadata": {},
     "output_type": "execute_result"
    }
   ],
   "source": [
    "pairs[1]\n",
    "\n",
    "idx_to_link[1]\n",
    "idx_to_movie[0]"
   ]
  },
  {
   "cell_type": "code",
   "execution_count": 10,
   "metadata": {},
   "outputs": [
    {
     "data": {
      "text/plain": [
       "(564, 3)"
      ]
     },
     "execution_count": 10,
     "metadata": {},
     "output_type": "execute_result"
    },
    {
     "data": {
      "text/plain": [
       "'Hoyte van Hoytema'"
      ]
     },
     "execution_count": 10,
     "metadata": {},
     "output_type": "execute_result"
    },
    {
     "data": {
      "text/plain": [
       "'Spectre (2015 film)'"
      ]
     },
     "execution_count": 10,
     "metadata": {},
     "output_type": "execute_result"
    }
   ],
   "source": [
    "pairs[1000]\n",
    "idx_to_link[564]\n",
    "idx_to_movie[3]"
   ]
  },
  {
   "cell_type": "code",
   "execution_count": 12,
   "metadata": {},
   "outputs": [
    {
     "data": {
      "text/plain": [
       "[(0, 0),\n",
       " (1, 0),\n",
       " (2, 0),\n",
       " (3, 0),\n",
       " (4, 0),\n",
       " (5, 0),\n",
       " (6, 0),\n",
       " (7, 0),\n",
       " (8, 0),\n",
       " (9, 0)]"
      ]
     },
     "execution_count": 12,
     "metadata": {},
     "output_type": "execute_result"
    }
   ],
   "source": [
    "pairs[:10]"
   ]
  },
  {
   "cell_type": "code",
   "execution_count": 11,
   "metadata": {},
   "outputs": [
    {
     "data": {
      "text/plain": [
       "671403"
      ]
     },
     "execution_count": 11,
     "metadata": {},
     "output_type": "execute_result"
    }
   ],
   "source": [
    "len(pairs_set)"
   ]
  },
  {
   "cell_type": "code",
   "execution_count": null,
   "metadata": {},
   "outputs": [],
   "source": [
    "def movie_embedding_model(embedding_size=50):\n",
    "    link = Input(name='link', shape=(1,))\n",
    "    movie = Input(name='movie', shape=(1,))\n",
    "    link_embedding = Embedding(name='link_embedding', \n",
    "                               input_dim=len(top_links), \n",
    "                               output_dim=embedding_size)(link)\n",
    "    movie_embedding = Embedding(name='movie_embedding', \n",
    "                                input_dim=len(movie_to_idx), \n",
    "                                output_dim=embedding_size)(movie)\n",
    "    dot = Dot(name='dot_product', normalize=True, axes=2)([link_embedding, movie_embedding])\n",
    "    merged = Reshape((1,))(dot)\n",
    "    model = Model(inputs=[link, movie], outputs=[merged])\n",
    "    model.compile(optimizer='nadam', loss='mse')\n",
    "    return model\n",
    "\n",
    "model = movie_embedding_model()\n",
    "model.summary()"
   ]
  },
  {
   "cell_type": "code",
   "execution_count": null,
   "metadata": {},
   "outputs": [],
   "source": [
    "random.seed(5)\n",
    "\n",
    "def batchifier(pairs, positive_samples=50, negative_ratio=10):\n",
    "    \"\"\"Generate batches of positive and negative samples\"\"\"\n",
    "    batch_size = positive_samples * (1 + negative_ratio)\n",
    "    batch = np.zeros((batch_size, 3))\n",
    "    # Generator yields batches\n",
    "    while True:\n",
    "        # Sample random positive samples\n",
    "        for idx, (link_id, movie_id) in enumerate(random.sample(pairs, positive_samples)):\n",
    "            # The labels for these samples are positive (1)\n",
    "            batch[idx, :] = (link_id, movie_id, 1)\n",
    "        idx = positive_samples\n",
    "        \n",
    "        # Continue adding negative samples until batch size is reached\n",
    "        while idx < batch_size:\n",
    "            # Sample a random movie\n",
    "            movie_id = random.randrange(len(movie_to_idx))\n",
    "            # Sample a random link\n",
    "            link_id = random.randrange(len(top_links))\n",
    "            # If the link is not on the movie page, this is a negative sample\n",
    "            if not (link_id, movie_id) in pairs_set:\n",
    "                # Set the label as negative (-1)\n",
    "                batch[idx, :] = (link_id, movie_id, -1)\n",
    "                idx += 1\n",
    "        # Make sure to shuffle the order of the positive and negative samples\n",
    "        np.random.shuffle(batch)\n",
    "        # Yield the links, movies, and labels\n",
    "        yield {'link': batch[:, 0], 'movie': batch[:, 1]}, batch[:, 2]\n",
    "\n",
    "next(batchifier(pairs, positive_samples=3, negative_ratio=2))"
   ]
  },
  {
   "cell_type": "code",
   "execution_count": null,
   "metadata": {},
   "outputs": [],
   "source": [
    "positive_samples_per_batch = 512\n",
    "\n",
    "# Fit the model to samples from the generator\n",
    "model.fit_generator(\n",
    "    batchifier(pairs, positive_samples=positive_samples_per_batch, negative_ratio=10),\n",
    "    epochs=15,\n",
    "    # Number of batches to grab every epoch\n",
    "    steps_per_epoch=len(pairs) // positive_samples_per_batch,\n",
    "    verbose=2\n",
    ")"
   ]
  },
  {
   "cell_type": "code",
   "execution_count": null,
   "metadata": {},
   "outputs": [],
   "source": [
    "movie = model.get_layer('movie_embedding')\n",
    "movie_weights = movie.get_weights()[0]\n",
    "movie_lengths = np.linalg.norm(movie_weights, axis=1)\n",
    "normalized_movies = (movie_weights.T / movie_lengths).T\n",
    "\n",
    "def similar_movies(movie):\n",
    "    dists = np.dot(normalized_movies, normalized_movies[movie_to_idx[movie]])\n",
    "    closest = np.argsort(dists)[-10:]\n",
    "    for c in reversed(closest):\n",
    "        print(c, 'Movie:', movies[c][0], 'Rating:', movies[c][-1], 'Distance:', dists[c])\n",
    "    return dists\n",
    "\n",
    "d = similar_movies('Rogue One')"
   ]
  },
  {
   "cell_type": "code",
   "execution_count": null,
   "metadata": {},
   "outputs": [],
   "source": [
    "from sklearn.manifold import TSNE\n",
    "\n",
    "tsne = TSNE(n_components = 2, perplexity = 10, verbose = 1).fit_transform(normalized_movies)"
   ]
  },
  {
   "cell_type": "code",
   "execution_count": null,
   "metadata": {},
   "outputs": [],
   "source": [
    "ratings = [int(r[3][:-1]) if r[3] is not None else np.nan for r in movies]"
   ]
  },
  {
   "cell_type": "code",
   "execution_count": null,
   "metadata": {},
   "outputs": [],
   "source": [
    "import matplotlib.pyplot as plt\n",
    "%matplotlib inline\n",
    "plt.style.use('fivethirtyeight')\n",
    "import seaborn as sns\n",
    "\n",
    "xs = tsne[:, 0]\n",
    "ys = tsne[:, 1]\n",
    "\n",
    "plt.figure(figsize = (10, 8))\n",
    "plt.scatter(xs, ys, c = ratings)\n",
    "\n",
    "plot_movies = random.sample(movie_to_idx.keys(), 20)\n",
    "\n",
    "for m in plot_movies:\n",
    "    index = movie_to_idx[m]\n",
    "    plt.text(x = tsne[index, 0], y = tsne[index, 1], s = m, fontsize = 10);\n",
    "    \n",
    "plt.colorbar();"
   ]
  },
  {
   "cell_type": "code",
   "execution_count": null,
   "metadata": {},
   "outputs": [],
   "source": [
    "link_counts"
   ]
  },
  {
   "cell_type": "code",
   "execution_count": null,
   "metadata": {},
   "outputs": [],
   "source": [
    "movies[1]"
   ]
  },
  {
   "cell_type": "code",
   "execution_count": null,
   "metadata": {},
   "outputs": [],
   "source": [
    "list(reversed(np.argsort(d)[-10:]))"
   ]
  },
  {
   "cell_type": "code",
   "execution_count": null,
   "metadata": {},
   "outputs": [],
   "source": [
    "link = model.get_layer('link_embedding')\n",
    "link_weights = link.get_weights()[0]\n",
    "\n",
    "# Find magnitudes\n",
    "link_lengths = np.linalg.norm(link_weights, axis=1)\n",
    "# Divide by magnitudes (normalization)\n",
    "normalized_links = (link_weights.T / link_lengths).T\n",
    "\n",
    "def similar_links(link: str) -> None:\n",
    "    \"\"\"Find the most similar links\"\"\"\n",
    "    dists = np.dot(normalized_links, normalized_links[link_to_idx[link]])\n",
    "    closest = np.argsort(dists)[-10:]\n",
    "    for c in reversed(closest):\n",
    "        print(c, top_links[c], dists[c])\n",
    "\n",
    "similar_links('George Lucas')"
   ]
  },
  {
   "cell_type": "code",
   "execution_count": null,
   "metadata": {},
   "outputs": [],
   "source": [
    "similar_links('Category:Films based on American novels')"
   ]
  },
  {
   "cell_type": "code",
   "execution_count": null,
   "metadata": {},
   "outputs": [],
   "source": [
    "best = ['Star Wars: The Force Awakens', 'The Martian (film)', 'Tangerine (film)', 'Straight Outta Compton (film)',\n",
    "        'Brooklyn (film)', 'Carol (film)', 'Spotlight (film)']\n",
    "worst = ['American Ultra', 'The Cobbler (2014 film)', 'Entourage (film)', 'Fantastic Four (2015 film)',\n",
    "         'Get Hard', 'Hot Pursuit (2015 film)', 'Mortdecai (film)', 'Serena (2014 film)', 'Vacation (2015 film)']\n",
    "y = np.asarray([1 for _ in best] + [0 for _ in worst])\n",
    "X = np.asarray([normalized_movies[movie_to_idx[movie]] for movie in best + worst])\n",
    "X.shape"
   ]
  },
  {
   "cell_type": "code",
   "execution_count": null,
   "metadata": {},
   "outputs": [],
   "source": [
    "clf = svm.SVC(kernel='linear')\n",
    "clf.fit(X, y) "
   ]
  },
  {
   "cell_type": "code",
   "execution_count": null,
   "metadata": {},
   "outputs": [],
   "source": [
    "estimated_movie_ratings = clf.decision_function(normalized_movies)\n",
    "best = np.argsort(estimated_movie_ratings)\n",
    "print('best:')\n",
    "for c in reversed(best[-5:]):\n",
    "    print(c, movies[c][0], estimated_movie_ratings[c])\n",
    "\n",
    "print('worst:')\n",
    "for c in best[:5]:\n",
    "    print(c, movies[c][0], estimated_movie_ratings[c])\n"
   ]
  },
  {
   "cell_type": "code",
   "execution_count": null,
   "metadata": {},
   "outputs": [],
   "source": [
    "rotten_y = np.asarray([float(movie[-2][:-1]) / 100 for movie in movies if movie[-2]])\n",
    "rotten_X = np.asarray([normalized_movies[movie_to_idx[movie[0]]] for movie in movies if movie[-2]])"
   ]
  },
  {
   "cell_type": "code",
   "execution_count": null,
   "metadata": {},
   "outputs": [],
   "source": [
    "TRAINING_CUT_OFF = int(len(rotten_X) * 0.8)\n",
    "regr = LinearRegression()\n",
    "regr.fit(rotten_X[:TRAINING_CUT_OFF], rotten_y[:TRAINING_CUT_OFF])"
   ]
  },
  {
   "cell_type": "code",
   "execution_count": null,
   "metadata": {},
   "outputs": [],
   "source": [
    "error = (regr.predict(rotten_X[TRAINING_CUT_OFF:]) - rotten_y[TRAINING_CUT_OFF:])\n",
    "'mean square error %2.2f' % np.mean(error ** 2)"
   ]
  },
  {
   "cell_type": "code",
   "execution_count": null,
   "metadata": {},
   "outputs": [],
   "source": [
    "error = (np.mean(rotten_y[:TRAINING_CUT_OFF]) - rotten_y[TRAINING_CUT_OFF:])\n",
    "'mean square error %2.2f' % np.mean(error ** 2)"
   ]
  },
  {
   "cell_type": "code",
   "execution_count": null,
   "metadata": {},
   "outputs": [],
   "source": [
    "def gross(movie):\n",
    "    v = movie[1].get('gross')\n",
    "    if not v or not ' ' in v:\n",
    "        return None\n",
    "    v, unit = v.split(' ', 1)\n",
    "    unit = unit.lower()\n",
    "    if not unit in ('million', 'billion'):\n",
    "        return None\n",
    "    if not v.startswith('$'):\n",
    "        return None\n",
    "    try:\n",
    "        v = float(v[1:])\n",
    "    except ValueError:\n",
    "        return None\n",
    "    if unit == 'billion':\n",
    "        v *= 1000\n",
    "    return v\n",
    "\n",
    "movie_gross = [gross(m) for m in movies]\n",
    "movie_gross = np.asarray([gr for gr in movie_gross if gr is not None])\n",
    "highest = np.argsort(movie_gross)[-10:]\n",
    "for c in reversed(highest):\n",
    "    print(c, movies[c][0], movie_gross[c])"
   ]
  },
  {
   "cell_type": "code",
   "execution_count": null,
   "metadata": {},
   "outputs": [],
   "source": [
    "gross_y = np.asarray([gr for gr in movie_gross if gr])\n",
    "gross_X = np.asarray([normalized_movies[movie_to_idx[movie[0]]] for movie, gr in zip(movies, movie_gross) if gr])"
   ]
  },
  {
   "cell_type": "code",
   "execution_count": null,
   "metadata": {},
   "outputs": [],
   "source": [
    "TRAINING_CUT_OFF = int(len(gross_X) * 0.8)\n",
    "regr = LinearRegression()\n",
    "regr.fit(gross_X[:TRAINING_CUT_OFF], gross_y[:TRAINING_CUT_OFF])"
   ]
  },
  {
   "cell_type": "code",
   "execution_count": null,
   "metadata": {},
   "outputs": [],
   "source": [
    "error = (regr.predict(gross_X[TRAINING_CUT_OFF:]) - gross_y[TRAINING_CUT_OFF:])\n",
    "'mean square error %2.2f' % np.mean(error ** 2)"
   ]
  },
  {
   "cell_type": "code",
   "execution_count": null,
   "metadata": {},
   "outputs": [],
   "source": [
    "error = (np.mean(gross_y[:TRAINING_CUT_OFF]) - gross_y[TRAINING_CUT_OFF:])\n",
    "'mean square error %2.2f' % np.mean(error ** 2)"
   ]
  },
  {
   "cell_type": "code",
   "execution_count": null,
   "metadata": {},
   "outputs": [],
   "source": []
  }
 ],
 "metadata": {
  "kernelspec": {
   "display_name": "Environment (conda_tensorflow_p36)",
   "language": "python",
   "name": "conda_tensorflow_p36"
  },
  "language_info": {
   "codemirror_mode": {
    "name": "ipython",
    "version": 3
   },
   "file_extension": ".py",
   "mimetype": "text/x-python",
   "name": "python",
   "nbconvert_exporter": "python",
   "pygments_lexer": "ipython3",
   "version": "3.6.6"
  }
 },
 "nbformat": 4,
 "nbformat_minor": 1
}
